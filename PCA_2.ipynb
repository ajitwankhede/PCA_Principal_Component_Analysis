{
 "cells": [
  {
   "cell_type": "markdown",
   "id": "8e2bbf73",
   "metadata": {},
   "source": [
    " ### Here's we are going to explore\n",
    " 1. How to wake up some data that we can apply PCA to.\n",
    " 2. How to use PCA() function from sklearn to do PCA\n",
    " 3. How to determine how much variation each principal component accounts for\n",
    " 4. How to draw a fancy PCA graph using matplotlib\n",
    " 5. How to examine the loading scores to determine what variables have the largest effect on graph."
   ]
  },
  {
   "cell_type": "code",
   "execution_count": 1,
   "id": "28a74d0e",
   "metadata": {},
   "outputs": [],
   "source": [
    "import pandas as pd\n",
    "import numpy as np\n",
    "import random as rd\n",
    "from sklearn.decomposition import PCA\n",
    "from sklearn import preprocessing\n",
    "import matplotlib.pyplot as plt"
   ]
  },
  {
   "cell_type": "code",
   "execution_count": 2,
   "id": "78ed7b8c",
   "metadata": {},
   "outputs": [],
   "source": [
    "# lets generate data\n",
    "\n",
    "''' The first thing we do is generate an array of 100 gene\n",
    "    names. Since this is just an example dataset, our gene name \n",
    "    are super boring: \"gene1\", \"gene2\", etc\n",
    "'''\n",
    "genes = [\"gene\"+ str(i) for i in range(1, 101)]\n",
    "\n",
    "''' Now we create arrays of sample names,\n",
    "    we have 5 \"wild type\" or \"wt\" samples\n",
    "    and 5 \"knocs out\" or \"ko\" samples\n",
    "'''\n",
    "wt = [\"wt\"+ str(i) for i in range(1,6)]\n",
    "ko = [\"ko\"+ str(i) for i in range(1,6)]\n",
    "\n",
    "# Create pandas dataframe to store metadata\n",
    "data = pd.DataFrame(columns= [*wt, *ko], index = genes) # * unpack the \"wt\" & \"ko\" arrays\n",
    "                                                       # So that coloum names are a single arrays that looks like below\n",
    "                                                       # [wt1, wt2, ... , wt6, ko1, ko2, .... , ko6]\n",
    "                                                       # without * it will create array like\n",
    "                                                       # [[wt1, wt2, ... , wt6],[ko1, ko2, .... , ko6]]\n",
    "# Create random data\n",
    "''' For each gene in the index (i.e. gene1, gene2, ..., gene100)\n",
    "    we create 5 values for the \"wt\" sample and 5 values for the \"ko\" sample\n",
    "'''\n",
    "\n",
    "for gene in  data.index:\n",
    "    data.loc[gene, 'wt1':'wt5']= np.random.poisson(lam= rd.randrange(10,1000), size = 5)\n",
    "    data.loc[gene, 'ko1': 'ko5'] = np.random.poisson(lam = rd.randrange(10,1000), size = 5)\n",
    "    \n",
    "    \"\"\" The made up data comes from two poisson\n",
    "        distribution: one for the wt sample and one for theko sample\n",
    "        And\n",
    "        For each gene, we select a new mean for the poisson distribution.\n",
    "        the means can vary between 10 to 1000\n",
    "    \"\"\""
   ]
  },
  {
   "cell_type": "code",
   "execution_count": 3,
   "id": "b16cc907",
   "metadata": {},
   "outputs": [
    {
     "data": {
      "text/html": [
       "<div>\n",
       "<style scoped>\n",
       "    .dataframe tbody tr th:only-of-type {\n",
       "        vertical-align: middle;\n",
       "    }\n",
       "\n",
       "    .dataframe tbody tr th {\n",
       "        vertical-align: top;\n",
       "    }\n",
       "\n",
       "    .dataframe thead th {\n",
       "        text-align: right;\n",
       "    }\n",
       "</style>\n",
       "<table border=\"1\" class=\"dataframe\">\n",
       "  <thead>\n",
       "    <tr style=\"text-align: right;\">\n",
       "      <th></th>\n",
       "      <th>wt1</th>\n",
       "      <th>wt2</th>\n",
       "      <th>wt3</th>\n",
       "      <th>wt4</th>\n",
       "      <th>wt5</th>\n",
       "      <th>ko1</th>\n",
       "      <th>ko2</th>\n",
       "      <th>ko3</th>\n",
       "      <th>ko4</th>\n",
       "      <th>ko5</th>\n",
       "    </tr>\n",
       "  </thead>\n",
       "  <tbody>\n",
       "    <tr>\n",
       "      <th>gene1</th>\n",
       "      <td>402</td>\n",
       "      <td>399</td>\n",
       "      <td>388</td>\n",
       "      <td>373</td>\n",
       "      <td>418</td>\n",
       "      <td>618</td>\n",
       "      <td>579</td>\n",
       "      <td>616</td>\n",
       "      <td>598</td>\n",
       "      <td>569</td>\n",
       "    </tr>\n",
       "    <tr>\n",
       "      <th>gene2</th>\n",
       "      <td>582</td>\n",
       "      <td>552</td>\n",
       "      <td>567</td>\n",
       "      <td>558</td>\n",
       "      <td>567</td>\n",
       "      <td>530</td>\n",
       "      <td>501</td>\n",
       "      <td>503</td>\n",
       "      <td>521</td>\n",
       "      <td>531</td>\n",
       "    </tr>\n",
       "    <tr>\n",
       "      <th>gene3</th>\n",
       "      <td>1001</td>\n",
       "      <td>993</td>\n",
       "      <td>934</td>\n",
       "      <td>902</td>\n",
       "      <td>936</td>\n",
       "      <td>350</td>\n",
       "      <td>381</td>\n",
       "      <td>391</td>\n",
       "      <td>394</td>\n",
       "      <td>365</td>\n",
       "    </tr>\n",
       "    <tr>\n",
       "      <th>gene4</th>\n",
       "      <td>492</td>\n",
       "      <td>466</td>\n",
       "      <td>495</td>\n",
       "      <td>523</td>\n",
       "      <td>486</td>\n",
       "      <td>959</td>\n",
       "      <td>983</td>\n",
       "      <td>907</td>\n",
       "      <td>959</td>\n",
       "      <td>919</td>\n",
       "    </tr>\n",
       "    <tr>\n",
       "      <th>gene5</th>\n",
       "      <td>637</td>\n",
       "      <td>621</td>\n",
       "      <td>578</td>\n",
       "      <td>639</td>\n",
       "      <td>631</td>\n",
       "      <td>822</td>\n",
       "      <td>821</td>\n",
       "      <td>894</td>\n",
       "      <td>874</td>\n",
       "      <td>833</td>\n",
       "    </tr>\n",
       "    <tr>\n",
       "      <th>gene6</th>\n",
       "      <td>342</td>\n",
       "      <td>359</td>\n",
       "      <td>360</td>\n",
       "      <td>344</td>\n",
       "      <td>359</td>\n",
       "      <td>927</td>\n",
       "      <td>981</td>\n",
       "      <td>966</td>\n",
       "      <td>985</td>\n",
       "      <td>962</td>\n",
       "    </tr>\n",
       "    <tr>\n",
       "      <th>gene7</th>\n",
       "      <td>337</td>\n",
       "      <td>336</td>\n",
       "      <td>301</td>\n",
       "      <td>313</td>\n",
       "      <td>342</td>\n",
       "      <td>241</td>\n",
       "      <td>285</td>\n",
       "      <td>212</td>\n",
       "      <td>226</td>\n",
       "      <td>221</td>\n",
       "    </tr>\n",
       "    <tr>\n",
       "      <th>gene8</th>\n",
       "      <td>183</td>\n",
       "      <td>162</td>\n",
       "      <td>170</td>\n",
       "      <td>181</td>\n",
       "      <td>166</td>\n",
       "      <td>812</td>\n",
       "      <td>778</td>\n",
       "      <td>750</td>\n",
       "      <td>771</td>\n",
       "      <td>774</td>\n",
       "    </tr>\n",
       "    <tr>\n",
       "      <th>gene9</th>\n",
       "      <td>893</td>\n",
       "      <td>894</td>\n",
       "      <td>845</td>\n",
       "      <td>845</td>\n",
       "      <td>879</td>\n",
       "      <td>169</td>\n",
       "      <td>137</td>\n",
       "      <td>158</td>\n",
       "      <td>171</td>\n",
       "      <td>144</td>\n",
       "    </tr>\n",
       "    <tr>\n",
       "      <th>gene10</th>\n",
       "      <td>32</td>\n",
       "      <td>28</td>\n",
       "      <td>27</td>\n",
       "      <td>15</td>\n",
       "      <td>25</td>\n",
       "      <td>279</td>\n",
       "      <td>263</td>\n",
       "      <td>285</td>\n",
       "      <td>300</td>\n",
       "      <td>293</td>\n",
       "    </tr>\n",
       "  </tbody>\n",
       "</table>\n",
       "</div>"
      ],
      "text/plain": [
       "         wt1  wt2  wt3  wt4  wt5  ko1  ko2  ko3  ko4  ko5\n",
       "gene1    402  399  388  373  418  618  579  616  598  569\n",
       "gene2    582  552  567  558  567  530  501  503  521  531\n",
       "gene3   1001  993  934  902  936  350  381  391  394  365\n",
       "gene4    492  466  495  523  486  959  983  907  959  919\n",
       "gene5    637  621  578  639  631  822  821  894  874  833\n",
       "gene6    342  359  360  344  359  927  981  966  985  962\n",
       "gene7    337  336  301  313  342  241  285  212  226  221\n",
       "gene8    183  162  170  181  166  812  778  750  771  774\n",
       "gene9    893  894  845  845  879  169  137  158  171  144\n",
       "gene10    32   28   27   15   25  279  263  285  300  293"
      ]
     },
     "execution_count": 3,
     "metadata": {},
     "output_type": "execute_result"
    }
   ],
   "source": [
    "data.head(10)"
   ]
  },
  {
   "cell_type": "code",
   "execution_count": 4,
   "id": "240e1652",
   "metadata": {},
   "outputs": [
    {
     "name": "stdout",
     "output_type": "stream",
     "text": [
      "(100, 10)\n"
     ]
    },
    {
     "data": {
      "text/plain": [
       "' Return dimention of matrix \\n    in our case it is (100,10), 100 gene by 10 total sample\\n'"
      ]
     },
     "execution_count": 4,
     "metadata": {},
     "output_type": "execute_result"
    }
   ],
   "source": [
    "print(data.shape)\n",
    "\n",
    "''' Return dimention of matrix \n",
    "    in our case it is (100,10), 100 gene by 10 total sample\n",
    "'''"
   ]
  },
  {
   "cell_type": "code",
   "execution_count": 5,
   "id": "ac1bb528",
   "metadata": {},
   "outputs": [
    {
     "data": {
      "text/plain": [
       "' After ceantering, the average value for each gene\\n    will be 0 and after scaling, the standard deviation for the values for\\n    each gene will be 1\\n'"
      ]
     },
     "execution_count": 5,
     "metadata": {},
     "output_type": "execute_result"
    }
   ],
   "source": [
    "# Before we do PCA we have to center and scale the data\n",
    "\n",
    "scaled_data = preprocessing.scale(data.T)\n",
    "                                # Notice that we are passing in the transpose of our data.\n",
    "                                # The scale function expect the sample to be rows instead of columns\n",
    "''' Note : We use samples as coloumns inthis example because that is often how genomic\n",
    "        data, you can store it however is easiest for you. there's no requriment that\n",
    "        sample be rows or coloumns, just be aware thar if it is columns, you'll need to\n",
    "        transpose it before analysis.\n",
    "'''\n",
    "            \n",
    "\"\"\" After ceantering, the average value for each gene\n",
    "    will be 0 and after scaling, the standard deviation for the values for\n",
    "    each gene will be 1\n",
    "\"\"\"\n",
    "\n"
   ]
  },
  {
   "cell_type": "markdown",
   "id": "6ca37d96",
   "metadata": {},
   "source": [
    "##### One another note :\n",
    " Alternatively, we could use following method to scale our data.\n",
    "     <font color='green'>StandardScaler().fit_trransform(data.T)</font>\n",
    "\n",
    "This second method is more commonly used for Machine learning, and that's what sklearn was designed to do"
   ]
  },
  {
   "cell_type": "code",
   "execution_count": 6,
   "id": "494c7073",
   "metadata": {},
   "outputs": [],
   "source": [
    "# Create PCA object\n",
    "pca = PCA()\n",
    "\n",
    "pca.fit(scaled_data) # here we do all math, calculatin loading scores and variation \n",
    "                     # each PC account for.\n",
    "\n",
    "pca_data = pca.transform(scaled_data) # and this is where we generate coordinates for a\n",
    "                                      # PCA graph based on the loading score and the scaled data"
   ]
  },
  {
   "cell_type": "code",
   "execution_count": 7,
   "id": "420aa500",
   "metadata": {},
   "outputs": [
    {
     "data": {
      "image/png": "[encoded data removed]",
      "text/plain": [
       "<Figure size 640x480 with 1 Axes>"
      ]
     },
     "metadata": {},
     "output_type": "display_data"
    }
   ],
   "source": [
    "# Lets we calculate the scree plot to find out how many principale componenet going to final plot\n",
    "\n",
    "''' First we do is calculate the presentage of variation that each\n",
    "    principal componenet accounts for.\n",
    "'''\n",
    "per_var = np.round(pca.explained_variance_ratio_*100, decimals=1)\n",
    "\n",
    "# Create lables for scree plot\n",
    "labels = [\"PC\"+ str(i) for i in range(1, len(per_var)+1)]\n",
    "\n",
    "# Create bar plot\n",
    "plt.bar(x = range(1, len(per_var)+1), height = per_var, tick_label = labels)\n",
    "plt.ylabel(\"Percentage of Explained Variance\")\n",
    "plt.xlabel(\"Principle Component\")\n",
    "plt.title(\"Scree plot\")\n",
    "plt.show()"
   ]
  },
  {
   "cell_type": "markdown",
   "id": "ab9be323",
   "metadata": {},
   "source": [
    "From Above graph, we can see, Almost all of the variation is along the first PC,\n",
    "\n",
    "So 2-D graph using PC1 and PC2 should do good job representing the original data."
   ]
  },
  {
   "cell_type": "code",
   "execution_count": 8,
   "id": "d9c0acf4",
   "metadata": {},
   "outputs": [
    {
     "data": {
      "image/png": "[encoded data removed]",
      "text/plain": [
       "<Figure size 640x480 with 1 Axes>"
      ]
     },
     "metadata": {},
     "output_type": "display_data"
    }
   ],
   "source": [
    "\"\"\" To draw a PCA plot, we'll first put the new coordinates,\n",
    "    created by pca.transfrom(scaled.data), into a nice matrix\n",
    "    where the rows have sample labels and the columns have PC labels.\n",
    "\"\"\"\n",
    "pca_df = pd.DataFrame(pca_data, index= [*wt, *ko], columns = labels)\n",
    "\n",
    "# Lets draw scatter plot with a title and nice axis labels\n",
    "plt.scatter(pca_df.PC1, pca_df.PC2)\n",
    "plt.title(\"My PCA graph\")\n",
    "plt.xlabel(\"PC1 - {0}%\".format(per_var[0]))\n",
    "plt.ylabel(\"PC2 - {0}%\".format(per_var[1]))\n",
    "\n",
    "for sample in pca_df.index:\n",
    "    plt.annotate(sample, (pca_df.PC1.loc[sample], pca_df.PC2.loc[sample]))\n",
    "    \n",
    "    # This loop adds sample name to the graph\n",
    "    \n",
    "plt.show()"
   ]
  },
  {
   "cell_type": "markdown",
   "id": "0dc14e90",
   "metadata": {},
   "source": [
    "#### Lastly, let's look at the loading score for PC1 to determine\n",
    "#### which genes had the largest influence on seperating the two clusters along X-axis."
   ]
  },
  {
   "cell_type": "code",
   "execution_count": 9,
   "id": "bb4eba64",
   "metadata": {},
   "outputs": [
    {
     "name": "stdout",
     "output_type": "stream",
     "text": [
      "gene80    0.105829\n",
      "gene16   -0.105823\n",
      "gene48    0.105820\n",
      "gene33   -0.105789\n",
      "gene59   -0.105776\n",
      "gene87   -0.105769\n",
      "gene75    0.105735\n",
      "gene20   -0.105723\n",
      "gene8    -0.105710\n",
      "gene44    0.105705\n",
      "dtype: float64\n"
     ]
    }
   ],
   "source": [
    "# Create pandas series object with the loading score in PC1\n",
    "loading_scores = pd.Series(pca.components_[0], index= genes)\n",
    "                            # Note: The PCs are zero-indexed, so PC1 =0\n",
    "\n",
    "# Now we sort the loading score based onthere magnitude(absolute value)\n",
    "sorted_loading_scores = loading_scores.abs().sort_values(ascending = False)\n",
    "\n",
    "# Lets get name of top 10 index\n",
    "top_10_genes = sorted_loading_scores[0:10].index.values\n",
    "\n",
    "#print top 10 gene names and their corresponding loading scores\n",
    "print(loading_scores[top_10_genes])"
   ]
  },
  {
   "cell_type": "markdown",
   "id": "2a5caad2",
   "metadata": {},
   "source": [
    "And this is what we get, these values are super similer,\n",
    "so a lot of genes played a role in separating the samples,\n",
    "rather than just one or two."
   ]
  },
  {
   "cell_type": "code",
   "execution_count": null,
   "id": "e5ffbe17",
   "metadata": {},
   "outputs": [],
   "source": []
  }
 ],
 "metadata": {
  "kernelspec": {
   "display_name": "Python 3 (ipykernel)",
   "language": "python",
   "name": "python3"
  },
  "language_info": {
   "codemirror_mode": {
    "name": "ipython",
    "version": 3
   },
   "file_extension": ".py",
   "mimetype": "text/x-python",
   "name": "python",
   "nbconvert_exporter": "python",
   "pygments_lexer": "ipython3",
   "version": "3.10.9"
  }
 },
 "nbformat": 4,
 "nbformat_minor": 5
}
